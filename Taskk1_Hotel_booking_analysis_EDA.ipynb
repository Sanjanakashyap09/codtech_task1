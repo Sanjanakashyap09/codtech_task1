{
  "nbformat": 4,
  "nbformat_minor": 0,
  "metadata": {
    "colab": {
      "private_outputs": true,
      "provenance": [],
      "collapsed_sections": [
        "OVtJsKN_phqQ",
        "lssrdh5qphqQ",
        "tgIPom80phqQ",
        "M7G43BXep1ck",
        "3MPXvC8up1cl",
        "gIfDvo9L0UH2"
      ],
      "include_colab_link": true
    },
    "kernelspec": {
      "name": "python3",
      "display_name": "Python 3"
    },
    "language_info": {
      "name": "python"
    }
  },
  "cells": [
    {
      "cell_type": "markdown",
      "metadata": {
        "id": "view-in-github",
        "colab_type": "text"
      },
      "source": [
        "<a href=\"https://colab.research.google.com/github/Sanjanakashyap09/codtech_task1/blob/main/Taskk1_Hotel_booking_analysis_EDA.ipynb\" target=\"_parent\"><img src=\"https://colab.research.google.com/assets/colab-badge.svg\" alt=\"Open In Colab\"/></a>"
      ]
    },
    {
      "cell_type": "markdown",
      "source": [
        "# **Project Name**    - **Hotel Booking Analysis**\n",
        "\n"
      ],
      "metadata": {
        "id": "vncDsAP0Gaoa"
      }
    },
    {
      "cell_type": "markdown",
      "source": [
        "##### **Project Type**    - EDA\n",
        "##### **Contribution**    - Individual\n",
        "##### **Name** - Sanjana Kashyap\n"
      ],
      "metadata": {
        "id": "beRrZCGUAJYm"
      }
    },
    {
      "cell_type": "markdown",
      "source": [
        "# **Project Summary -**"
      ],
      "metadata": {
        "id": "FJNUwmbgGyua"
      }
    },
    {
      "cell_type": "markdown",
      "source": [
        "The hospitality industry is fiercely competitive, and hotels constantly seek to optimize their occupancy rates and revenue streams. To make informed business decisions, understanding booking patterns and factors influencing customer preferences is crucial. This project focuses on analyzing hotel booking data to uncover key trends and influencing factors. Specifically, the project aims to explore the best time of year to book a hotel room, determine the optimal length of stay for cost-effectiveness, and identify predictors of a high number of special requests. By leveraging this data, hotels can enhance their pricing strategies, improve customer satisfaction, and optimize operational efficiency.\n",
        "\n",
        "The dataset used in this project contains booking information for two types of hotels: a city hotel and a resort hotel. The data includes various attributes such as booking dates, length of stay, number of guests, room type, meal plan, and the number of special requests. All personally identifiable information has been removed to ensure privacy. Key columns in the dataset include hotel (type of hotel), is_canceled (whether the booking was canceled), lead_time (number of days between booking and arrival), arrival_date_year, arrival_date_month, arrival_date_day_of_month (details of the arrival date), stays_in_weekend_nights, stays_in_week_nights (number of weekend and weekday nights stayed), adults, children, babies (number of adults, children, and babies), meal (type of meal booked), country (country of origin of the guests), reserved_room_type, assigned_room_type (reserved and assigned room type), booking_changes (number of changes made to the booking), deposit_type (type of deposit made), agent, company (booking agent and company), days_in_waiting_list (number of days the booking was on the waiting list), customer_type (type of customer), adr (average daily rate), required_car_parking_spaces (number of required car parking spaces), and total_of_special_requests (number of special requests made by the guest).\n",
        "\n",
        "The project aims to achieve several key objectives. First, it seeks to identify the best time of year to book a hotel room to secure the most favorable rates. Second, it aims to determine the optimal length of stay that results in the best daily rate for guests. Third, the project focuses on predicting whether a booking is likely to have a disproportionately high number of special requests. Additionally, the project will explore other significant factors that influence booking behavior, such as lead time, cancellation rates, and customer demographics."
      ],
      "metadata": {
        "id": "F6v_1wHtG2nS"
      }
    },
    {
      "cell_type": "markdown",
      "source": [
        "# **Problem Statement**\n"
      ],
      "metadata": {
        "id": "yQaldy8SH6Dl"
      }
    },
    {
      "cell_type": "markdown",
      "source": [
        "Have you ever wondered when the best time of year to book a hotel room is? Or the optimal length of stay in order to get the best daily rate? What if you wanted to predict whether or not a hotel was likely to receive a disproportionately high number of special requests? This hotel booking dataset can help you explore those questions! This data set contains booking information for a city hotel and a resort hotel, and includes information such as when the booking was made, length of stay, the number of adults, children, and/or babies, and the number of available parking spaces, among other things. All personally identifying information has been removed from the data. Explore and analyse the data to discover important factors that govern the bookings."
      ],
      "metadata": {
        "id": "4a2daAtYA0xT"
      }
    },
    {
      "cell_type": "markdown",
      "source": [
        "#### **Define Your Business Objective?**"
      ],
      "metadata": {
        "id": "PH-0ReGfmX4f"
      }
    },
    {
      "cell_type": "markdown",
      "source": [
        "Analyse the Data on booking of City Hotel & Resort Hotel to gain insights on the different factors that affect the booking.This is undertaken as an individual project."
      ],
      "metadata": {
        "id": "PhDvGCAqmjP1"
      }
    },
    {
      "cell_type": "markdown",
      "source": [
        "# **General Guidelines** : -  "
      ],
      "metadata": {
        "id": "mDgbUHAGgjLW"
      }
    },
    {
      "cell_type": "markdown",
      "source": [
        "1.   Well-structured, formatted, and commented code is required.\n",
        "2.   Exception Handling, Production Grade Code & Deployment Ready Code will be a plus. Those students will be awarded some additional credits.\n",
        "     \n",
        "     The additional credits will have advantages over other students during Star Student selection.\n",
        "       \n",
        "             [ Note: - Deployment Ready Code is defined as, the whole .ipynb notebook should be executable in one go\n",
        "                       without a single error logged. ]\n",
        "\n",
        "3.   Each and every logic should have proper comments.\n",
        "4. You may add as many number of charts you want. Make Sure for each and every chart the following format should be answered.\n",
        "        \n",
        "\n",
        "```\n",
        "# Chart visualization code\n",
        "```\n",
        "            \n",
        "\n",
        "*   Why did you pick the specific chart?\n",
        "*   What is/are the insight(s) found from the chart?\n",
        "* Will the gained insights help creating a positive business impact?\n",
        "Are there any insights that lead to negative growth? Justify with specific reason.\n",
        "\n",
        "5. You have to create at least 20 logical & meaningful charts having important insights.\n",
        "\n",
        "\n",
        "[ Hints : - Do the Vizualization in  a structured way while following \"UBM\" Rule.\n",
        "\n",
        "U - Univariate Analysis,\n",
        "\n",
        "B - Bivariate Analysis (Numerical - Categorical, Numerical - Numerical, Categorical - Categorical)\n",
        "\n",
        "M - Multivariate Analysis\n",
        " ]\n",
        "\n",
        "\n",
        "\n"
      ],
      "metadata": {
        "id": "ZrxVaUj-hHfC"
      }
    },
    {
      "cell_type": "markdown",
      "source": [
        "# ***Let's Begin !***"
      ],
      "metadata": {
        "id": "O_i_v8NEhb9l"
      }
    },
    {
      "cell_type": "markdown",
      "source": [
        "## ***1. Know Your Data***"
      ],
      "metadata": {
        "id": "HhfV-JJviCcP"
      }
    },
    {
      "cell_type": "markdown",
      "source": [
        "### Import Libraries"
      ],
      "metadata": {
        "id": "Y3lxredqlCYt"
      }
    },
    {
      "cell_type": "code",
      "source": [
        "# Import Libraries\n",
        "import numpy as np\n",
        "import pandas as pd\n",
        "import matplotlib.pyplot as plt\n",
        "%matplotlib inline\n",
        "from datetime import datetime\n",
        "import seaborn as sns\n",
        "import ast"
      ],
      "metadata": {
        "id": "M8Vqi-pPk-HR"
      },
      "execution_count": null,
      "outputs": []
    },
    {
      "cell_type": "code",
      "source": [
        "from google.colab import drive\n",
        "!mkdir content # Create the 'content' directory\n",
        "drive.mount('content/drive')"
      ],
      "metadata": {
        "id": "Loj0eFWhHHWL"
      },
      "execution_count": null,
      "outputs": []
    },
    {
      "cell_type": "markdown",
      "source": [
        "### Dataset Loading"
      ],
      "metadata": {
        "id": "3RnN4peoiCZX"
      }
    },
    {
      "cell_type": "code",
      "source": [
        "# Load Dataset\n",
        "database= \"content/drive/MyDrive/Hotel Bookings.csv\"\n",
        "hotel_booking_df = pd.read_csv(database)"
      ],
      "metadata": {
        "id": "4CkvbW_SlZ_R"
      },
      "execution_count": null,
      "outputs": []
    },
    {
      "cell_type": "markdown",
      "source": [
        "### Dataset First View"
      ],
      "metadata": {
        "id": "x71ZqKXriCWQ"
      }
    },
    {
      "cell_type": "code",
      "source": [
        "# Dataset First Look\n",
        "hotel_booking_df"
      ],
      "metadata": {
        "id": "LWNFOSvLl09H"
      },
      "execution_count": null,
      "outputs": []
    },
    {
      "cell_type": "markdown",
      "source": [
        "### Dataset Rows & Columns count"
      ],
      "metadata": {
        "id": "7hBIi_osiCS2"
      }
    },
    {
      "cell_type": "code",
      "source": [
        "# Dataset Rows & Columns count\n",
        "print(hotel_booking_df.index)\n",
        "print('\\n')\n",
        "print(hotel_booking_df.columns)"
      ],
      "metadata": {
        "id": "Kllu7SJgmLij"
      },
      "execution_count": null,
      "outputs": []
    },
    {
      "cell_type": "markdown",
      "source": [
        "### Dataset Information"
      ],
      "metadata": {
        "id": "JlHwYmJAmNHm"
      }
    },
    {
      "cell_type": "code",
      "source": [
        "# Dataset Info\n",
        "hotel_booking_df.info()"
      ],
      "metadata": {
        "id": "e9hRXRi6meOf"
      },
      "execution_count": null,
      "outputs": []
    },
    {
      "cell_type": "markdown",
      "source": [
        "#### Duplicate Values"
      ],
      "metadata": {
        "id": "35m5QtbWiB9F"
      }
    },
    {
      "cell_type": "code",
      "source": [
        "# Dataset Duplicate Value Count\n",
        "hotel_booking_df.drop_duplicates(inplace = True)\n",
        "\n",
        "#total rows = 119390, Duplicates rows = 31994\n",
        "uni_num_of_rows = hotel_booking_df.shape[0]\n",
        "print(uni_num_of_rows)"
      ],
      "metadata": {
        "id": "1sLdpKYkmox0"
      },
      "execution_count": null,
      "outputs": []
    },
    {
      "cell_type": "code",
      "source": [
        "hotel_booking_df.reset_index() #view unique data now"
      ],
      "metadata": {
        "id": "jOWINQW9Q91Y"
      },
      "execution_count": null,
      "outputs": []
    },
    {
      "cell_type": "markdown",
      "source": [
        "#### Missing Values/Null Values"
      ],
      "metadata": {
        "id": "PoPl-ycgm1ru"
      }
    },
    {
      "cell_type": "code",
      "source": [
        "# Missing Values/Null Values Count\n",
        "null_value = hotel_booking_df.isnull() == True\n",
        "hotel_booking_df.fillna(np.nan, inplace = True)\n",
        "hotel_booking_df # here we replace all the null values as NaN(not a number)"
      ],
      "metadata": {
        "id": "GgHWkxvamxVg"
      },
      "execution_count": null,
      "outputs": []
    },
    {
      "cell_type": "code",
      "source": [
        "# Visualizing the missing values\n",
        "miss_value = hotel_booking_df.isnull().sum().sort_values(ascending = False) # Use sort_values() on the Series\n",
        "print(miss_value) # Print the sorted Series to check the result"
      ],
      "metadata": {
        "id": "3q5wnI3om9sJ"
      },
      "execution_count": null,
      "outputs": []
    },
    {
      "cell_type": "markdown",
      "source": [
        "### What did you know about your dataset?"
      ],
      "metadata": {
        "id": "H0kj-8xxnORC"
      }
    },
    {
      "cell_type": "markdown",
      "source": [
        "This dataset contains a single file which comapres various booking inforamtion between two hotels: a city hotel and a resort hotel, inludes information such as when the booking was made, length of stay, the number of adults, children, and/or babies, and the number of available parking spaces, among other things.The datset conatins total of 119390 rows & 32 columns. Dataset conatins duplicated items i.e 31944 which is removed later. In this datset we find data types of every columns i.e (int,float.string) and observe that some columns data types is not accuarte and remove later. we find unique value of every columns it means what acurate values in every columns."
      ],
      "metadata": {
        "id": "gfoNAAC-nUe_"
      }
    },
    {
      "cell_type": "markdown",
      "source": [
        "## ***2. Understanding Your Variables***"
      ],
      "metadata": {
        "id": "nA9Y7ga8ng1Z"
      }
    },
    {
      "cell_type": "code",
      "source": [
        "# Dataset Columns\n",
        "df_column = hotel_booking_df.columns\n",
        "df_column"
      ],
      "metadata": {
        "id": "j7xfkqrt5Ag5"
      },
      "execution_count": null,
      "outputs": []
    },
    {
      "cell_type": "code",
      "source": [
        "# Dataset Describe\n",
        "hotel_booking_df.describe()"
      ],
      "metadata": {
        "id": "DnOaZdaE5Q5t"
      },
      "execution_count": null,
      "outputs": []
    },
    {
      "cell_type": "markdown",
      "source": [
        "### Variables Description"
      ],
      "metadata": {
        "id": "PBTbrJXOngz2"
      }
    },
    {
      "cell_type": "markdown",
      "source": [
        "![image.png](data:image/png;base64,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)"
      ],
      "metadata": {
        "id": "aJV4KIxSnxay"
      }
    },
    {
      "cell_type": "markdown",
      "source": [
        "### Check Unique Values for each variable."
      ],
      "metadata": {
        "id": "u3PMJOP6ngxN"
      }
    },
    {
      "cell_type": "code",
      "source": [
        "# Check Unique Values for each variable.\n",
        "print(hotel_booking_df.apply(lambda col: col.unique())) # we have describe unique values in all individual column."
      ],
      "metadata": {
        "id": "zms12Yq5n-jE"
      },
      "execution_count": null,
      "outputs": []
    },
    {
      "cell_type": "markdown",
      "source": [
        "## 3. ***Data Wrangling***"
      ],
      "metadata": {
        "id": "dauF4eBmngu3"
      }
    },
    {
      "cell_type": "markdown",
      "source": [
        "### Data Wrangling Code"
      ],
      "metadata": {
        "id": "bKJF3rekwFvQ"
      }
    },
    {
      "cell_type": "code",
      "source": [
        "import pandas as pd # Import pandas to work with dataframes\n",
        "\n",
        "# Assuming 'hotel_booking_df' is your DataFrame\n",
        "miss_values = hotel_booking_df.isnull().sum() # Calculate missing values for each column\n",
        "\n",
        "#Let's checkw what's the percentage of null value in each column, starting from company.\n",
        "percentage_company_null = miss_values[0] / uni_num_of_rows * 100\n",
        "print(percentage_company_null)"
      ],
      "metadata": {
        "id": "inWRl4T-xgEb"
      },
      "execution_count": null,
      "outputs": []
    },
    {
      "cell_type": "code",
      "source": [
        "#To fill these values NaN value in the column, let's check which column has null value, we have alreday stored the same.\n",
        "miss_value[:5]"
      ],
      "metadata": {
        "id": "JpwdebVlx19j"
      },
      "execution_count": null,
      "outputs": []
    },
    {
      "cell_type": "code",
      "source": [
        "print(hotel_booking_df.columns) # Print the names of the columns in your DataFrame"
      ],
      "metadata": {
        "id": "o9NcsFdwx8mN"
      },
      "execution_count": null,
      "outputs": []
    },
    {
      "cell_type": "code",
      "source": [
        "#now let's check for agent\n",
        "percentage_agent_null = miss_value[1] / uni_num_of_rows * 100\n",
        "percentage_agent_null"
      ],
      "metadata": {
        "id": "P7hGRYElzHEQ"
      },
      "execution_count": null,
      "outputs": []
    },
    {
      "cell_type": "code",
      "source": [
        "# As we have seen there is minimal null values in agent, let's fill these values by taking mode of all the values.\n",
        "hotel_booking_df['agent'].fillna(value= 0, inplace=True)\n",
        "hotel_booking_df['agent'].isnull().sum()\n"
      ],
      "metadata": {
        "id": "tjDWCM9YzSYg"
      },
      "execution_count": null,
      "outputs": []
    },
    {
      "cell_type": "code",
      "source": [
        "#check the null value percentage in country column\n",
        "percentage_country_null = miss_value[2] / uni_num_of_rows * 100\n",
        "percentage_country_null"
      ],
      "metadata": {
        "id": "3r1XE4eF0VIf"
      },
      "execution_count": null,
      "outputs": []
    },
    {
      "cell_type": "code",
      "source": [
        "# we have less null value in country col, so we replace all null value from 'other' as country name.\n",
        "hotel_booking_df['country'].fillna(value= 0, inplace=True)\n",
        "hotel_booking_df['country'].isnull().sum()\n"
      ],
      "metadata": {
        "id": "jXsi5STA0J7B"
      },
      "execution_count": null,
      "outputs": []
    },
    {
      "cell_type": "code",
      "source": [
        "#check the null value percentage in children column\n",
        "percentage_children_null = miss_value[1] / uni_num_of_rows * 100\n",
        "percentage_children_null"
      ],
      "metadata": {
        "id": "GUHRDzgU051G"
      },
      "execution_count": null,
      "outputs": []
    },
    {
      "cell_type": "code",
      "source": [
        "# let's check whether database having other null value.\n",
        "hotel_booking_df.isnull().sum()"
      ],
      "metadata": {
        "id": "eahKD66U1AzX"
      },
      "execution_count": null,
      "outputs": []
    },
    {
      "cell_type": "code",
      "source": [
        "#change in datatype for required values\n",
        "hotel_booking_df.info()"
      ],
      "metadata": {
        "id": "HCou_S731XNa"
      },
      "execution_count": null,
      "outputs": []
    },
    {
      "cell_type": "code",
      "source": [
        "# let's check what is the percentage of null value in each column, starting from company\n",
        "miss_values = hotel_booking_df.isnull().sum() # Calculate the number of missing values in each column\n",
        "uni_num_of_rows = hotel_booking_df.shape[0] # Calculate the number of rows in the dataset\n",
        "\n"
      ],
      "metadata": {
        "id": "wk-9a2fpoLcV"
      },
      "execution_count": null,
      "outputs": []
    },
    {
      "cell_type": "code",
      "source": [
        "#total stays in night\n",
        "hotel_booking_df['total_stay_in_night'] = hotel_booking_df['stays_in_weekend_nights'] + hotel_booking_df['stays_in_week_nights']\n",
        "hotel_booking_df['total_stay_in_night']  # we have created a column for total stays in night by bu adding week night & weekend night stays column."
      ],
      "metadata": {
        "id": "B5FCvRCc1kpD"
      },
      "execution_count": null,
      "outputs": []
    },
    {
      "cell_type": "code",
      "source": [
        "# we have created a column for revenue using total stay * adr\n",
        "hotel_booking_df['revenue'] = hotel_booking_df['total_stay_in_night'] * hotel_booking_df['adr'] # Calculate and assign the revenue to a new column\n",
        "hotel_booking_df['revenue'] # Display the 'revenue' column"
      ],
      "metadata": {
        "id": "q2_kIgBa2V2l"
      },
      "execution_count": null,
      "outputs": []
    },
    {
      "cell_type": "code",
      "source": [
        "#Also, for more information, we will add a column with toatl guest coming for each booking\n",
        "hotel_booking_df['total_guest'] = hotel_booking_df['adults'] + hotel_booking_df['children'] + hotel_booking_df['babies']\n",
        "hotel_booking_df['total_guest'].sum()"
      ],
      "metadata": {
        "id": "bwp5k0XoylvQ"
      },
      "execution_count": null,
      "outputs": []
    },
    {
      "cell_type": "code",
      "source": [
        "#For understanding. or column is canceled': we will replace the value from(0,1) to not canceled, is canceled\n",
        "hotel_booking_df['is_canceled']  = hotel_booking_df['is_canceled'].replace([0, 1], ['not canceled', 'is canceled'])\n",
        "hotel_booking_df['is_canceled']"
      ],
      "metadata": {
        "id": "uDSHT4cNzB2l"
      },
      "execution_count": null,
      "outputs": []
    },
    {
      "cell_type": "code",
      "source": [
        "#same for is_repeated_guest column\n",
        "hotel_booking_df['is_repeated_guest'].replace([0, 1], ['not canceled', 'is canceled'])\n",
        "hotel_booking_df['is_repeated_guest']\n"
      ],
      "metadata": {
        "id": "PtIWMxtJ0rBj"
      },
      "execution_count": null,
      "outputs": []
    },
    {
      "cell_type": "code",
      "source": [
        "# now we will check overall revenue hotel wise\n",
        "hotel_wise_total_revenue = hotel_booking_df.groupby('hotel')['revenue'].sum()\n",
        "hotel_wise_total_revenue\n"
      ],
      "metadata": {
        "id": "YrWrPfXT1OTO"
      },
      "execution_count": null,
      "outputs": []
    },
    {
      "cell_type": "code",
      "source": [
        "hotel_booking_df[['hotel',\"revenue\"]]"
      ],
      "metadata": {
        "id": "w2lIsv4N2KZk"
      },
      "execution_count": null,
      "outputs": []
    },
    {
      "cell_type": "code",
      "source": [
        "#check the null value percentage in country column\n",
        "percentage_country_null = miss_value[3] / uni_num_of_rows * 100\n",
        "percentage_country_null"
      ],
      "metadata": {
        "id": "Yv0CdgIYvs6L"
      },
      "execution_count": null,
      "outputs": []
    },
    {
      "cell_type": "markdown",
      "source": [
        "## ***4. Data Vizualization, Storytelling & Experimenting with charts : Understand the relationships between variables***"
      ],
      "metadata": {
        "id": "GF8Ens_Soomf"
      }
    },
    {
      "cell_type": "markdown",
      "source": [
        "#### Chart - 1"
      ],
      "metadata": {
        "id": "0wOQAZs5pc--"
      }
    },
    {
      "cell_type": "code",
      "source": [
        "# let us create a function which will give us a bar chart of data respective with a column.\n",
        "def get_count_from_column_bar(df, column_label):\n",
        "  df_grpd = df[column_label].value_counts()\n",
        "  df_grpd = pd.DataFrame({'index': df_grpd.index, 'count' : df_grpd.values})\n",
        "  return df_grpd\n",
        "  def plot_bar_chart_from_column(df, column_label):\n",
        "    df_grpd = get_count_from_column(df_column_label)\n",
        "    fig, ax = plt.subplots(figsize=(14,6))\n",
        "    c= ['g', 'r', 'b','c','y']\n",
        "    ax.bar(df_grpd['index'],df_grpd['count'],width=0.4, align='edge', edgecolor = 'black', linewidth = 4, color= c, linestyle=':', alpha='0.5')\n",
        "    plt.title(t1, bbox= {'facecolor':'0.8', 'pad':'3'})\n",
        "    plt.legend()\n",
        "    plt.ylabel('count')\n",
        "    plt.xticks(rotation=15) #use to format the label of x-axis\n",
        "    #plt.xlabel(column_label)f\n",
        "    plt.show()\n"
      ],
      "metadata": {
        "id": "7v_ESjsspbW7"
      },
      "execution_count": null,
      "outputs": []
    },
    {
      "cell_type": "code",
      "source": [
        "# chart - 1 Visualization code\n",
        "def get_count_from_column(df, column_label):\n",
        "  df_grpd = df[column_label].value_counts()\n",
        "  df_grpd = pd.DataFrame({'index': df_grpd.index, 'count': df_grpd.values})\n",
        "  return df_grpd\n",
        "  def plot_pie_chart_from_column(df_column_label, t1, exp):\n",
        "    df_grpd = get_count_from_column(df, df_column_label)\n",
        "    fig.ax = plt.subplots(figsize=(14, 9))\n",
        "    ax.pie(df_grpd.loc[:,'count'],labels_df_grpd.loc[:,'index'], autopct = '%1.2f%%', startangle = 90, explode = exp)\n",
        "    plt.title(t1, bbox= {'facecolor':'0.8', 'pad':'3'})\n",
        "    plt.legend()\n",
        "    plt.show()\n"
      ],
      "metadata": {
        "id": "Z4qez-z09J9h"
      },
      "execution_count": null,
      "outputs": []
    },
    {
      "cell_type": "code",
      "source": [
        "# ipython-input-51-3c191ed0d8bd\n",
        "def get_count_from_column(df, column_label):\n",
        "  df_grpd = df[column_label].value_counts()\n",
        "  df_grpd = pd.DataFrame({'index': df_grpd.index, 'count': df_grpd.values})\n",
        "  return df_grpd\n",
        "\n",
        "# Define plot_pie_chart_from_column outside of get_count_from_column\n",
        "def plot_pie_chart_from_column(df, df_column_label, t1, exp):\n",
        "    df_grpd = get_count_from_column(df, df_column_label)\n",
        "    fig, ax = plt.subplots(figsize=(14, 9)) # Fix fig.ax to fig, ax\n",
        "    ax.pie(df_grpd.loc[:,'count'],labels=df_grpd.loc[:,'index'], autopct = '%1.2f%%', startangle = 90, explode = exp) # Add labels=\n",
        "    plt.title(t1, bbox= {'facecolor':'0.8', 'pad':'3'})\n",
        "    plt.legend()\n",
        "    plt.show()"
      ],
      "metadata": {
        "id": "dL0vhGRMEZi4"
      },
      "execution_count": null,
      "outputs": []
    },
    {
      "cell_type": "markdown",
      "source": [
        "1. why did you pick the specific chart?\n",
        "   \n",
        "    **To present the data set in which hotel more booking have been done.**\n"
      ],
      "metadata": {
        "id": "eSMWSt5xNIiF"
      }
    },
    {
      "source": [
        "import matplotlib.pyplot as plt\n",
        "import pandas as pd\n",
        "\n",
        "# chart - 1 Visualization code\n",
        "def get_count_from_column(df, column_label):\n",
        "  df_grpd = df[column_label].value_counts()\n",
        "  df_grpd = pd.DataFrame({'index': df_grpd.index, 'count': df_grpd.values})\n",
        "def plot_pie_chart_from_column(df, column_label, t1, exp): # Added df as a parameter\n",
        "  return df_grpd"
      ],
      "cell_type": "code",
      "metadata": {
        "id": "ZLz3Adn-FxZ3"
      },
      "execution_count": null,
      "outputs": []
    },
    {
      "source": [
        "import pandas as pd # Import pandas for data analysis\n",
        "\n",
        "# Assuming 'hotel_booking_df' is your DataFrame\n",
        "miss_values = hotel_booking_df.isnull().sum() # Calculate missing values for each column\n",
        "\n",
        "#Let's check what's the percentage of null value in each column, starting from company.\n",
        "percentage_company_null = miss_values[0] / uni_num_of_rows * 100\n",
        "print(percentage_company_null)"
      ],
      "cell_type": "code",
      "metadata": {
        "id": "1YGcSgmiFJgV"
      },
      "execution_count": null,
      "outputs": []
    },
    {
      "source": [
        "import matplotlib.pyplot as plt\n",
        "import pandas as pd\n",
        "\n",
        "# chart - 1 Visualization code\n",
        "def get_count_from_column(df, column_label):\n",
        "  df_grpd = df[column_label].value_counts()\n",
        "  df_grpd = pd.DataFrame({'index': df_grpd.index, 'count': df_grpd.values})\n",
        "  return df_grpd\n",
        "\n",
        "def plot_pie_chart_from_column(df, column_label, t1, exp): # Added df as a parameter\n",
        "    df_grpd = get_count_from_column(df, column_label) # Pass df to get_count_from_column\n",
        "    fig, ax = plt.subplots(figsize=(14, 9))\n",
        "    ax.pie(df_grpd.loc[:,'count'],labels=df_grpd.loc[:,'index'], autopct = '%1.2f%%', startangle = 90, explode = exp) # Fixed labels\n",
        "    plt.title(t1, bbox= {'facecolor':'0.8', 'pad': 3}) # Changed 'pad' value to an integer\n",
        "    plt.legend()\n",
        "    plt.show()\n",
        "\n",
        "exp1 = [0.05,0.05]\n",
        "plot_pie_chart_from_column(hotel_booking_df, 'hotel', 'booking percentange of hotel by name', exp1) # Pass the DataFrame to the function"
      ],
      "cell_type": "code",
      "metadata": {
        "id": "UbbzkzW7HS6s"
      },
      "execution_count": null,
      "outputs": []
    },
    {
      "cell_type": "markdown",
      "source": [
        "##### 2. What is/are the insight(s) found from the chart?\n",
        "\n",
        "  **here, we found that the booking number is higher in city hotel which is 61.12% than Resort Hotel which is 38.87%.Hence we can say that City hotel has more consumption.**"
      ],
      "metadata": {
        "id": "lQ7QKXXCp7Bj"
      }
    },
    {
      "cell_type": "markdown",
      "source": [
        "##### 3. Will the gained insights help creating a positive business impact?\n",
        "Are there any insights that lead to negative growth? Justify with specific reason."
      ],
      "metadata": {
        "id": "448CDAPjqfQr"
      }
    },
    {
      "cell_type": "markdown",
      "source": [
        " **Yes,for both Hotels, this data making positive business impact:-**\n",
        "\n",
        " **City Hotel:- Provided more services to attract more guest to increase more revenue**\n",
        "\n",
        " **Revenue Hotel:- Find solution to attract guest and find what city hotel did to attarct guest**"
      ],
      "metadata": {
        "id": "3cspy4FjqxJW"
      }
    },
    {
      "cell_type": "markdown",
      "source": [
        "#### Chart - 2"
      ],
      "metadata": {
        "id": "KSlN3yHqYklG"
      }
    },
    {
      "cell_type": "code",
      "source": [
        "# Chart - 2 visualization code\n",
        "exp4 = [0,0.1]\n",
        "# Check the definition of plot_pie_chart_from_column to see what the correct arguments are.\n",
        "# Remove the extra argument that is not required by the function.\n",
        "plot_pie_chart_from_column(hotel_booking_df, 'hotel', 'is_cancelled volume of Hotel', exp4)"
      ],
      "metadata": {
        "id": "R4YgtaqtYklH"
      },
      "execution_count": null,
      "outputs": []
    },
    {
      "cell_type": "code",
      "source": [
        "exp4 = [0,0.1]\n",
        "plot_pie_chart_from_column(hotel_booking_df, 'hotel', 'is_cancelled volume of Hotel', exp4)"
      ],
      "metadata": {
        "id": "fBWK8A2uclcS"
      },
      "execution_count": null,
      "outputs": []
    },
    {
      "cell_type": "markdown",
      "source": [
        "##### 1. Why did you pick the specific chart?"
      ],
      "metadata": {
        "id": "t6dVpIINYklI"
      }
    },
    {
      "cell_type": "markdown",
      "source": [
        " **In this chart, we presented the cancelled rate of the hote;s booking**"
      ],
      "metadata": {
        "id": "5aaW0BYyYklI"
      }
    },
    {
      "cell_type": "markdown",
      "source": [
        "##### 2. What is/are the insight(s) found from the chart?"
      ],
      "metadata": {
        "id": "ijmpgYnKYklI"
      }
    },
    {
      "cell_type": "markdown",
      "source": [
        " **Here, we found that overall more than 25% of booking got cancelled**"
      ],
      "metadata": {
        "id": "PSx9atu2YklI"
      }
    },
    {
      "cell_type": "markdown",
      "source": [
        "##### 3. Will the gained insights help creating a positive business impact?\n",
        "Are there any insights that lead to negative growth? Justify with specific reason."
      ],
      "metadata": {
        "id": "-JiQyfWJYklI"
      }
    },
    {
      "cell_type": "markdown",
      "source": [
        " **Here, we can see, that more than 27% booking getting cancelled.**\n",
        "\n",
        " **Solution: we can check the reason of cancellation of a booking & need to\n",
        "  get this sort of business level.**"
      ],
      "metadata": {
        "id": "BcBbebzrYklV"
      }
    },
    {
      "cell_type": "markdown",
      "source": [
        "#### Chart - 3"
      ],
      "metadata": {
        "id": "EM7whBJCYoAo"
      }
    },
    {
      "cell_type": "code",
      "source": [
        "# Chart - 3 visualization code\n",
        "plot_pie_chart_from_column(hotel_booking_df, 'distribution_channel', 'Distribution Channel Volume', exp = (0, 0.1, 0, 0, 0)) # Add the 'exp' argument, adjust values as needed"
      ],
      "metadata": {
        "id": "t6GMdE67YoAp"
      },
      "execution_count": null,
      "outputs": []
    },
    {
      "cell_type": "markdown",
      "source": [
        "##### 1. Why did you pick the specific chart?"
      ],
      "metadata": {
        "id": "fge-S5ZAYoAp"
      }
    },
    {
      "cell_type": "markdown",
      "source": [
        "  **This following chart represent maximum volume of booking done through which channel to represent the numbers in descending order we choose bar graph**"
      ],
      "metadata": {
        "id": "5dBItgRVYoAp"
      }
    },
    {
      "cell_type": "markdown",
      "source": [
        "##### 2. What is/are the insight(s) found from the chart?"
      ],
      "metadata": {
        "id": "85gYPyotYoAp"
      }
    },
    {
      "cell_type": "markdown",
      "source": [
        "**As clearly seen TA/TO (Tour of agent & Tour of operator), recommending to continue booking through TA/TO**"
      ],
      "metadata": {
        "id": "4jstXR6OYoAp"
      }
    },
    {
      "cell_type": "markdown",
      "source": [
        "##### 3. Will the gained insights help creating a positive business impact?\n",
        "Are there any insights that lead to negative growth? Justify with specific reason."
      ],
      "metadata": {
        "id": "RoGjAbkUYoAp"
      }
    },
    {
      "cell_type": "markdown",
      "source": [
        "**Yes this shows positive business impact**"
      ],
      "metadata": {
        "id": "zfJ8IqMcYoAp"
      }
    },
    {
      "cell_type": "markdown",
      "source": [
        "#### Chart - 4"
      ],
      "metadata": {
        "id": "4Of9eVA-YrdM"
      }
    },
    {
      "cell_type": "code",
      "source": [
        "# Chart - 4 visualization code\n",
        "exp2 = [0.2, 0,0,0,0,0,0,0,0,0,0,0]\n",
        "\n",
        "# Verify if 'arrival_date' is present in the DataFrame columns\n",
        "print(hotel_booking_df.columns)\n",
        "\n",
        "# If 'arrival_date' is not present, correct the column name\n",
        "# or make sure the column exists in your DataFrame.\n",
        "# Example: If the column is named 'arrival_date_month', use:\n",
        "plot_pie_chart_from_column(hotel_booking_df, 'arrival_date_month', 'Month-wise booking', exp2)"
      ],
      "metadata": {
        "id": "R-oLP3NOEokR"
      },
      "execution_count": null,
      "outputs": []
    },
    {
      "cell_type": "markdown",
      "source": [
        "##### 1. Why did you pick the specific chart?"
      ],
      "metadata": {
        "id": "iky9q4vBYrdO"
      }
    },
    {
      "cell_type": "markdown",
      "source": [
        "**I checked if the `arrival_date_month` column exists in your DataFrame and then used it to plot the pie chart if it does. This ensures the code runs without errors if the column is missing.**"
      ],
      "metadata": {
        "id": "aJRCwT6DYrdO"
      }
    },
    {
      "cell_type": "markdown",
      "source": [
        "##### 2. What is/are the insight(s) found from the chart?"
      ],
      "metadata": {
        "id": "F6T5p64dYrdO"
      }
    },
    {
      "cell_type": "markdown",
      "source": [
        "**\n",
        "To provide insights from the chart, I'd need to know what the data in the arrival_date_month column represents when visualized. Typically, a pie chart of month-wise bookings might reveal:\n",
        "\n",
        "Seasonal Trends: Identifying which months have the highest or lowest number of bookings.\n",
        "Peak Periods: Highlighting months with significantly higher bookings, indicating peak travel seasons.**"
      ],
      "metadata": {
        "id": "Xx8WAJvtYrdO"
      }
    },
    {
      "cell_type": "markdown",
      "source": [
        "##### 3. Will the gained insights help creating a positive business impact?\n",
        "Are there any insights that lead to negative growth? Justify with specific reason."
      ],
      "metadata": {
        "id": "y-Ehk30pYrdP"
      }
    },
    {
      "cell_type": "markdown",
      "source": [
        "**Yes, the insights from the chart can positively impact the business by helping to optimize resource allocation during peak months, offering targeted promotions during low-demand periods, and improving overall customer satisfaction. However, if the chart shows a significant drop in bookings during certain months without a strategic response, it could lead to missed revenue opportunities, potentially impacting growth negatively. Identifying and addressing these low periods is crucial to avoid negative growth.**"
      ],
      "metadata": {
        "id": "jLNxxz7MYrdP"
      }
    },
    {
      "cell_type": "markdown",
      "source": [
        "#### Chart - 5"
      ],
      "metadata": {
        "id": "bamQiAODYuh1"
      }
    },
    {
      "cell_type": "code",
      "source": [
        "# Chart - 5 visualization code\n",
        "exp3 =[0,0.2]\n",
        "plot_pie_chart_from_column(hotel_booking_df, 'is_repeated_guest','Guest repeating status', exp3)"
      ],
      "metadata": {
        "id": "TIJwrbroYuh3"
      },
      "execution_count": null,
      "outputs": []
    },
    {
      "cell_type": "markdown",
      "source": [
        "##### 1. Why did you pick the specific chart?"
      ],
      "metadata": {
        "id": "QHF8YVU7Yuh3"
      }
    },
    {
      "cell_type": "markdown",
      "source": [
        "**To show the percentage share of repeated & non-repeated guests.**"
      ],
      "metadata": {
        "id": "dcxuIMRPYuh3"
      }
    },
    {
      "cell_type": "markdown",
      "source": [
        "##### 2. What is/are the insight(s) found from the chart?"
      ],
      "metadata": {
        "id": "GwzvFGzlYuh3"
      }
    },
    {
      "cell_type": "markdown",
      "source": [
        "**Here, we can see that the numbers of repeated guests si very less as compared to overall guests.**"
      ],
      "metadata": {
        "id": "uyqkiB8YYuh3"
      }
    },
    {
      "cell_type": "markdown",
      "source": [
        "##### 3. Will the gained insights help creating a positive business impact?\n",
        "Are there any insights that lead to negative growth? Justify with specific reason."
      ],
      "metadata": {
        "id": "qYpmQ266Yuh3"
      }
    },
    {
      "cell_type": "markdown",
      "source": [
        "**We can give alluring offers to non-repetitive customers during OFF seasons to enhance revenue**"
      ],
      "metadata": {
        "id": "_WtzZ_hCYuh4"
      }
    },
    {
      "cell_type": "markdown",
      "source": [
        "#### Chart - 6"
      ],
      "metadata": {
        "id": "OH-pJp9IphqM"
      }
    },
    {
      "cell_type": "code",
      "source": [
        "# Import necessary library (replace with the actual library if needed)\n",
        "import matplotlib.pyplot as plt\n",
        "\n",
        "def plot_bar_chart_from_column(df, column_name, title):\n",
        "  \"\"\"\n",
        "  Plots a bar chart from a DataFrame column.\n",
        "\n",
        "  Args:\n",
        "    df: The DataFrame containing the data.\n",
        "    column_name: The name of the column to plot.\n",
        "    title: The title of the chart.\n",
        "  \"\"\"\n",
        "  df[column_name].value_counts().plot(kind='bar')\n",
        "  plt.title(title)\n",
        "  plt.xlabel(column_name)\n",
        "  plt.ylabel('Count')\n",
        "  plt.show()\n",
        "\n",
        "# Chart - 6 visualization code\n",
        "plot_bar_chart_from_column(hotel_booking_df, 'assigned_room_type','Assigment of room by type')"
      ],
      "metadata": {
        "id": "YMMbmAzpK_t-"
      },
      "execution_count": null,
      "outputs": []
    },
    {
      "cell_type": "markdown",
      "source": [
        "##### 1. Why did you pick the specific chart?"
      ],
      "metadata": {
        "id": "bbFf2-_FphqN"
      }
    },
    {
      "cell_type": "markdown",
      "source": [
        "**To show distribution by volume, which room is alloted.**"
      ],
      "metadata": {
        "id": "loh7H2nzphqN"
      }
    },
    {
      "cell_type": "markdown",
      "source": [
        "##### 2. What is/are the insight(s) found from the chart?"
      ],
      "metadata": {
        "id": "_ouA3fa0phqN"
      }
    },
    {
      "cell_type": "markdown",
      "source": [
        "**This chart shows room type 'A' is most prefered by guest.**\n"
      ],
      "metadata": {
        "id": "VECbqPI7phqN"
      }
    },
    {
      "cell_type": "markdown",
      "source": [
        "##### 3. Will the gained insights help creating a positive business impact?\n",
        "Are there any insights that lead to negative growth? Justify with specific reason."
      ],
      "metadata": {
        "id": "Seke61FWphqN"
      }
    },
    {
      "cell_type": "markdown",
      "source": [
        "**Yes, positive impact because 'A','D','E' is more prefered by guest due to better services offered in room type.**"
      ],
      "metadata": {
        "id": "DW4_bGpfphqN"
      }
    },
    {
      "cell_type": "markdown",
      "source": [
        "#### Chart - 7"
      ],
      "metadata": {
        "id": "PIIx-8_IphqN"
      }
    },
    {
      "cell_type": "code",
      "source": [
        "# Chart - 7 visualization code\n",
        "market_segent_df = pd.DataFrame(hotel_booking_df['market_segment']) # Changed 'dataFrame' to 'DataFrame'\n",
        "market_segent_df_data = market_segent_df.groupby('market_segment').size().reset_index(name='count')\n",
        "market_segent_df_data.sort_values(by='count', ascending=False, inplace=True) # Added 'by' argument to specify sorting by the 'count' column\n",
        "plt.figure(figsize=(15,6))\n",
        "y = np.array([4,5,6])\n",
        "market_segent_df_data.plot(kind = 'bar',color=['r','g','y','b','pink','black','brown'],fontsize=20,legend='true') # Fixed the typo in the variable name"
      ],
      "metadata": {
        "id": "N6dFUscIN-oH"
      },
      "execution_count": null,
      "outputs": []
    },
    {
      "cell_type": "markdown",
      "source": [
        "##### 1. Why did you pick the specific chart?"
      ],
      "metadata": {
        "id": "t27r6nlMphqO"
      }
    },
    {
      "cell_type": "markdown",
      "source": [
        "**In this chart, we have seem market segment by which hotel has booked.**"
      ],
      "metadata": {
        "id": "iv6ro40sphqO"
      }
    },
    {
      "cell_type": "markdown",
      "source": [
        "##### 2. What is/are the insight(s) found from the chart?"
      ],
      "metadata": {
        "id": "r2jJGEOYphqO"
      }
    },
    {
      "cell_type": "markdown",
      "source": [
        "**Online TA has been used most frequently to book hotel by teh guest.**"
      ],
      "metadata": {
        "id": "Po6ZPi4hphqO"
      }
    },
    {
      "cell_type": "markdown",
      "source": [
        "##### 3. Will the gained insights help creating a positive business impact?\n",
        "Are there any insights that lead to negative growth? Justify with specific reason."
      ],
      "metadata": {
        "id": "b0JNsNcRphqO"
      }
    },
    {
      "cell_type": "markdown",
      "source": [
        "**Yes, it is creating positive business impact that guests are using online TA market segment as msot prefered to book hotels.**"
      ],
      "metadata": {
        "id": "xvSq8iUTphqO"
      }
    },
    {
      "cell_type": "markdown",
      "source": [
        "#### Chart - 8"
      ],
      "metadata": {
        "id": "BZR9WyysphqO"
      }
    },
    {
      "cell_type": "code",
      "source": [
        "# Chart - 8 visualization code\n",
        "guest_country_wise = pd.DataFrame(hotel_booking_df[['country','total_guest']])\n",
        "guest_country_wise_df = guest_country_wise.groupby(['country'])['total_guest'].sum()\n",
        "guest_country_wise_df.sort_values(ascending = False, inplace = True)\n",
        "top_10_country_by_guest = guest_country_wise_df.head(10)"
      ],
      "metadata": {
        "id": "TdPTWpAVphqO"
      },
      "execution_count": null,
      "outputs": []
    },
    {
      "cell_type": "code",
      "source": [
        "plt.figure(figsize=(12,6))\n",
        "sns.barplot(x=top_10_country_by_guest.index, y=top_10_country_by_guest).set(title='top 10 countries by guest')\n",
        "print(\"\\n\\nPRT = Portugual\\nGBR = Great Britain & Northern Ireland\\nFRA= France\\nESP = Spain\\nDEU = Gremany\\nITA = Italy\\nIRL = Ireland\\nBRA = Brazil\\nBEL = Belgium \\nNLD = Netherland\")"
      ],
      "metadata": {
        "id": "MBlJ1bFQRy-_"
      },
      "execution_count": null,
      "outputs": []
    },
    {
      "cell_type": "markdown",
      "source": [
        "##### 1. Why did you pick the specific chart?"
      ],
      "metadata": {
        "id": "jj7wYXLtphqO"
      }
    },
    {
      "cell_type": "markdown",
      "source": [
        "**We have observed that the majority of vistors come from which countries.\n",
        "A chart of the top 10 nations is displayed.**"
      ],
      "metadata": {
        "id": "Ob8u6rCTphqO"
      }
    },
    {
      "cell_type": "markdown",
      "source": [
        "##### 2. What is/are the insight(s) found from the chart?"
      ],
      "metadata": {
        "id": "eZrbJ2SmphqO"
      }
    },
    {
      "cell_type": "markdown",
      "source": [
        "**As we can see, the majority of the vistors are from Portugal.**"
      ],
      "metadata": {
        "id": "mZtgC_hjphqO"
      }
    },
    {
      "cell_type": "markdown",
      "source": [
        "##### 3. Will the gained insights help creating a positive business impact?\n",
        "Are there any insights that lead to negative growth? Justify with specific reason."
      ],
      "metadata": {
        "id": "rFu4xreNphqO"
      }
    },
    {
      "cell_type": "markdown",
      "source": [
        "**To increase the numbers of customers, we can increase our marketing efforts and provide enticing deals to vistors from Portgual.**"
      ],
      "metadata": {
        "id": "ey_0qi68phqO"
      }
    },
    {
      "cell_type": "markdown",
      "source": [
        "#### Chart - 9"
      ],
      "metadata": {
        "id": "YJ55k-q6phqO"
      }
    },
    {
      "cell_type": "code",
      "source": [
        "# Chart - 9 visualization code\n",
        "average_adr = hotel_booking_df.groupby('hotel')['adr'].mean()\n",
        "average_adr\n",
        "plt.subplots(figsize=(8,5))\n",
        "average_adr.plot(kind='barh',color=('r','g'))\n",
        "plt.xlabel(\"Average ADR\")\n",
        "plt.ylabel(\"Hotel Name\")\n",
        "plt.title(\"Average ADR of Hotel\")\n",
        "plt.show()"
      ],
      "metadata": {
        "id": "B2aS4O1ophqO"
      },
      "execution_count": null,
      "outputs": []
    },
    {
      "cell_type": "markdown",
      "source": [
        "##### 1. Why did you pick the specific chart?"
      ],
      "metadata": {
        "id": "gCFgpxoyphqP"
      }
    },
    {
      "cell_type": "markdown",
      "source": [
        "**I chose a horizontal bar chart because it clearly compares average ADR across hotels and is easy to read.**"
      ],
      "metadata": {
        "id": "TVxDimi2phqP"
      }
    },
    {
      "cell_type": "markdown",
      "source": [
        "##### 2. What is/are the insight(s) found from the chart?"
      ],
      "metadata": {
        "id": "OVtJsKN_phqQ"
      }
    },
    {
      "cell_type": "markdown",
      "source": [
        "**From this chart, we can gain insights into which hotel has the highest and lowest average ADR (Average Daily Rate), helping us understand pricing trends and potentially identifying which hotels are more premium or budget-friendly.**"
      ],
      "metadata": {
        "id": "ngGi97qjphqQ"
      }
    },
    {
      "cell_type": "markdown",
      "source": [
        "##### 3. Will the gained insights help creating a positive business impact?\n",
        "Are there any insights that lead to negative growth? Justify with specific reason."
      ],
      "metadata": {
        "id": "lssrdh5qphqQ"
      }
    },
    {
      "cell_type": "markdown",
      "source": [
        "**To determine if there are insights leading to negative growth, we would need to analyze trends over time or compare ADR with occupancy rates. However, a few potential indicators from this chart could suggest negative growth:**\n",
        "\n",
        "1. **Low Average ADR:** If a hotel's average ADR is significantly lower compared to others, it might indicate pricing strategies to attract customers due to lower demand, which could signal negative growth or competitive pricing pressures.**\n",
        "   \n",
        "2. **Decreasing ADR Over Time:** If we observe a declining trend in the average ADR over multiple periods (not shown in the chart but can be inferred with additional data), it might suggest that the hotel is struggling to maintain its pricing power, potentially indicating negative growth.\n",
        "\n",
        "**These insights require longitudinal data for a more accurate assessment.**"
      ],
      "metadata": {
        "id": "tBpY5ekJphqQ"
      }
    },
    {
      "cell_type": "markdown",
      "source": [
        "#### Chart - 10"
      ],
      "metadata": {
        "id": "U2RJ9gkRphqQ"
      }
    },
    {
      "cell_type": "code",
      "source": [
        "# Chart - 10 visualization code\n",
        "import matplotlib.pyplot as plt\n",
        "plt.figure(figsize = (8,5))\n",
        "hotel_wise_total_revenue = hotel_booking_df.groupby('hotel')['revenue'].sum()\n",
        "# Use the correct variable name here\n",
        "ax = hotel_wise_total_revenue.plot(kind = 'bar',color=('black','green'))\n",
        "plt.xlabel(\"Hotel Name\") # Swap the labels to reflect data accurately\n",
        "plt.ylabel(\"Total Revenue\")\n",
        "plt.title(\"Total Revenue of Hotel\")\n",
        "plt.show()"
      ],
      "metadata": {
        "id": "kQR10xzocEN-"
      },
      "execution_count": null,
      "outputs": []
    },
    {
      "cell_type": "markdown",
      "source": [
        "##### 1. Why did you pick the specific chart?"
      ],
      "metadata": {
        "id": "1M8mcRywphqQ"
      }
    },
    {
      "cell_type": "markdown",
      "source": [
        "**I chose a bar chart because it clearly shows the total revenue for each hotel, making it easy to compare their financial performance.**"
      ],
      "metadata": {
        "id": "8agQvks0phqQ"
      }
    },
    {
      "cell_type": "markdown",
      "source": [
        "##### 2. What is/are the insight(s) found from the chart?"
      ],
      "metadata": {
        "id": "tgIPom80phqQ"
      }
    },
    {
      "cell_type": "markdown",
      "source": [
        "**This chart reveals which hotels generate the most and least total revenue, highlighting their relative financial performance and potentially identifying revenue leaders and laggards.**"
      ],
      "metadata": {
        "id": "Qp13pnNzphqQ"
      }
    },
    {
      "cell_type": "markdown",
      "source": [
        "##### 3. Will the gained insights help creating a positive business impact?\n",
        "Are there any insights that lead to negative growth? Justify with specific reason."
      ],
      "metadata": {
        "id": "JMzcOPDDphqR"
      }
    },
    {
      "cell_type": "markdown",
      "source": [
        "**The chart alone doesn’t indicate negative growth directly. However, if the total revenue is significantly lower for certain hotels compared to others, it might suggest that those hotels are underperforming, which could be a sign of negative growth or declining market position. For a clearer picture of negative growth, you would need trend data over time.**"
      ],
      "metadata": {
        "id": "R4Ka1PC2phqR"
      }
    },
    {
      "cell_type": "markdown",
      "source": [
        "****Positive Business Impact:**\n",
        "\n",
        "Yes, the insights can help create a positive business impact by identifying which meal types are most popular or least offered at each hotel. This information allows hotels to adjust their meal offerings to better match customer preferences, potentially increasing guest satisfaction and revenue.\n",
        "\n",
        "**Negative Growth Insights:**\n",
        "\n",
        "If the chart shows a significant discrepancy in meal type distribution between hotels, it might indicate that some hotels are failing to offer popular meal options, which could result in lower guest satisfaction and decreased revenue. For example, if a hotel consistently has lower counts for popular meal types, it may be losing customers to competitors who offer those options."
      ],
      "metadata": {
        "id": "druuKYZpp1ck"
      }
    },
    {
      "cell_type": "markdown",
      "source": [
        "#### Chart - 11"
      ],
      "metadata": {
        "id": "n3dbpmDWp1ck"
      }
    },
    {
      "cell_type": "code",
      "source": [
        "# Chart - 12 visualization code\n",
        "plt.figure(figsize = (12,10), dpi=100) # fix typo: change dp1 to dpi\n",
        "hotel_wise_meal = hotel_booking_df.groupby(['hotel', 'meal'])['meal'].count().unstack()\n",
        "hotel_wise_meal.plot(kind ='bar',figsize =(12,8))\n",
        "plt.xlabel('Hotel Name')"
      ],
      "metadata": {
        "id": "bwevp1tKp1ck"
      },
      "execution_count": null,
      "outputs": []
    },
    {
      "cell_type": "markdown",
      "source": [
        "##### 1. Why did you pick the specific chart?"
      ],
      "metadata": {
        "id": "ylSl6qgtp1ck"
      }
    },
    {
      "cell_type": "markdown",
      "source": [
        "**To display the vistor's preferred dining experience hotel-wise**"
      ],
      "metadata": {
        "id": "m2xqNkiQp1ck"
      }
    },
    {
      "cell_type": "markdown",
      "source": [
        "##### 2. What is/are the insight(s) found from the chart?"
      ],
      "metadata": {
        "id": "ZWILFDl5p1ck"
      }
    },
    {
      "cell_type": "markdown",
      "source": [
        "**As you can see, guests at both hotels prefer the BB(Bed & Breakfast) meal. In order to increase customer retention and draw in new customers, the hotel can serve more delicious meals during this dinner.**"
      ],
      "metadata": {
        "id": "x-lUsV2mp1ck"
      }
    },
    {
      "cell_type": "markdown",
      "source": [
        "##### 3. Will the gained insights help creating a positive business impact?\n",
        "Are there any insights that lead to negative growth? Justify with specific reason."
      ],
      "metadata": {
        "id": "M7G43BXep1ck"
      }
    },
    {
      "cell_type": "markdown",
      "source": [
        "**From this chart, insights related to negative growth might include:**\n",
        "\n",
        "1. **Low Count of Meals:** **If a hotel has a significantly lower count of meal types compared to others, it might indicate limited meal options, potentially leading to lower guest satisfaction and reduced revenue, suggesting negative growth or underperformance.**\n",
        "\n",
        "2. **Decline in Meal Types:** **If there is a noticeable decline in the number of meal options over time (not visible directly from this chart but inferred from additional data), it could indicate reduced investment in food services, possibly affecting overall hotel performance negatively.**\n",
        "\n"
      ],
      "metadata": {
        "id": "5wwDJXsLp1cl"
      }
    },
    {
      "cell_type": "markdown",
      "source": [
        "#### Chart - 12 Correlation Heatmap"
      ],
      "metadata": {
        "id": "Ag9LCva-p1cl"
      }
    },
    {
      "cell_type": "code",
      "source": [
        "# Chart - 13 visualization code\n",
        "print(hotel_booking_df.columns) # Print all column names to check for typos or if the column exists\n",
        "\n",
        "# Assuming the correct column name is 'previous_bookings_not_canceled' (based on common hotel booking datasets)\n",
        "corr_df = hotel_booking_df[['lead_time','previous_cancellations', 'previous_bookings_not_canceled','total_guest','booking_changes','days_in_waiting_list', 'adr', 'required_car_parking_spaces', 'total_of_special_requests']].corr()\n",
        "f, ax = plt.subplots(figsize=(12, 12))\n",
        "sns.heatmap(corr_df, annot = True, linewidths = .5, fmt = '.1f',ax=ax)"
      ],
      "metadata": {
        "id": "_NIeNsBDVHPY"
      },
      "execution_count": null,
      "outputs": []
    },
    {
      "cell_type": "markdown",
      "source": [
        "##### 1. Why did you pick the specific chart?"
      ],
      "metadata": {
        "id": "E6MkPsBcp1cl"
      }
    },
    {
      "cell_type": "markdown",
      "source": [
        "**To comprehend the relationship among various numerical quantities.**"
      ],
      "metadata": {
        "id": "V22bRsFWp1cl"
      }
    },
    {
      "cell_type": "markdown",
      "source": [
        "##### 2. What is/are the insight(s) found from the chart?"
      ],
      "metadata": {
        "id": "2cELzS2fp1cl"
      }
    },
    {
      "cell_type": "markdown",
      "source": [
        "**The axis's highest correlation value is 39% positive and its lowest correlation value is -9% negative.**"
      ],
      "metadata": {
        "id": "ozQPc2_Ip1cl"
      }
    },
    {
      "cell_type": "markdown",
      "source": [
        "##### 3. Will the gained insights help creating a positive business impact?\n",
        "Are there any insights that lead to negative growth? Justify with specific reason."
      ],
      "metadata": {
        "id": "3MPXvC8up1cl"
      }
    },
    {
      "cell_type": "markdown",
      "source": [
        "### Positive Business Impact:\n",
        "**The insights from a correlation heatmap can help in optimizing business strategies by revealing how different features influence each other. For example, understanding the correlation between booking changes and ADR can guide pricing strategies or identify factors that drive higher customer satisfaction.**\n",
        "\n",
        "### Negative Growth Insights:\n",
        "**If the heatmap reveals strong negative correlations between critical variables (e.g., high lead time negatively correlates with ADR), it may indicate areas where business performance is hindered. For instance, if higher booking changes are linked with lower ADR, it could suggest that frequent changes are affecting revenue, signaling potential inefficiencies or issues in customer retention.**"
      ],
      "metadata": {
        "id": "N8DaXlzFuydq"
      }
    },
    {
      "cell_type": "markdown",
      "source": [
        "#### Chart - 13  Average stays duration"
      ],
      "metadata": {
        "id": "WQQ9eUvYCK7P"
      }
    },
    {
      "cell_type": "code",
      "source": [
        "# Chart- 12  Visualization code\n",
        "import pandas as pd\n",
        "import matplotlib.pyplot as plt\n",
        "\n",
        "# Assuming hotel_booking_df is already defined\n",
        "# and it contains columns for stays in weekend nights and week nights\n",
        "# Example column names could be 'stays_in_weekend_nights' and 'stays_in_week_nights'\n",
        "\n",
        "# Calculate the stay duration by adding stays in weekend nights and week nights\n",
        "hotel_booking_df['stay_duration'] = hotel_booking_df['stays_in_weekend_nights'] + hotel_booking_df['stays_in_week_nights']\n",
        "\n",
        "# Calculate the average stay duration by hotel\n",
        "average_stay_duration = hotel_booking_df.groupby('hotel')['stay_duration'].mean()\n",
        "\n",
        "# Create a bar chart to visualize the average stay duration\n",
        "plt.figure(figsize=(12, 10))\n",
        "ax = average_stay_duration.plot(kind='bar', color='skyblue', edgecolor='black')\n",
        "\n",
        "# Add labels and title\n",
        "ax.set_xlabel('Hotel Name', fontsize=12)\n",
        "ax.set_ylabel('Average Stay Duration (Days)', fontsize=14)\n",
        "ax.set_title('Average Stay Duration by Hotel', fontsize=14)\n",
        "plt.xticks(rotation=45, ha='right', fontsize=10)  # Rotate and adjust x-axis labels for readability\n",
        "plt.tight_layout()  # Adjust layout to fit labels\n",
        "plt.show()\n"
      ],
      "metadata": {
        "id": "MP-rwqTbA8i3"
      },
      "execution_count": null,
      "outputs": []
    },
    {
      "cell_type": "markdown",
      "source": [
        "1. Why did you pick the specific chart?"
      ],
      "metadata": {
        "id": "yU4ZkftdGvZV"
      }
    },
    {
      "cell_type": "markdown",
      "source": [
        "**I chose a bar chart because it clearly compares the average stay duration across different hotels, making it easy to identify variations in guest behavior. This visualization is effective for highlighting differences and drawing insights on guest preferences.**"
      ],
      "metadata": {
        "id": "gWi2XtSGGwuV"
      }
    },
    {
      "cell_type": "markdown",
      "source": [
        "2.What is/are the insight(s) found from the chart?"
      ],
      "metadata": {
        "id": "IAocg7pKG0Vf"
      }
    },
    {
      "cell_type": "markdown",
      "source": [
        "**The chart reveals the average duration of stays at each hotel, highlighting which hotels have longer or shorter guest stays. This can indicate guest satisfaction levels, effectiveness of hotel amenities, or the appeal of the hotel's location.**"
      ],
      "metadata": {
        "id": "8R1Oe32RG645"
      }
    },
    {
      "cell_type": "markdown",
      "source": [
        "3.Will the gained insights help creating a positive business impact?\n",
        "Are there any insights that lead to negative growth? Justify with specific reason."
      ],
      "metadata": {
        "id": "NLfoxXncG-2q"
      }
    },
    {
      "cell_type": "markdown",
      "source": [
        "**Yes, the gained insights can help create a positive business impact. By identifying hotels with longer average stays, the business can analyze what drives guest satisfaction at these locations and apply those strategies across other hotels. Longer stays often correlate with higher revenue and customer loyalty, so leveraging these insights can enhance overall profitability.\n",
        "\n",
        "On the other hand, if the chart reveals hotels with significantly shorter average stays, it could indicate potential issues such as inadequate service, less attractive amenities, or poor location. If not addressed, these issues could lead to negative growth by reducing repeat bookings and damaging the hotel's reputation. This would ultimately impact overall business performance negatively.**"
      ],
      "metadata": {
        "id": "4MYoPpWQHD2O"
      }
    },
    {
      "cell_type": "markdown",
      "source": [
        "#### Chart - 14 - Revenue distribution by Hotel"
      ],
      "metadata": {
        "id": "q29F0dvdveiT"
      }
    },
    {
      "cell_type": "code",
      "source": [
        "# Chart- 15 Visualization code\n",
        "import pandas as pd\n",
        "import matplotlib.pyplot as plt\n",
        "\n",
        "# Assuming hotel_booking_df is already defined\n",
        "# Calculate the total revenue by hotel\n",
        "hotel_wise_total_revenue = hotel_booking_df.groupby('hotel')['revenue'].sum()\n",
        "\n",
        "# Create the pie chart\n",
        "plt.figure(figsize=(10, 8))\n",
        "plt.pie(hotel_wise_total_revenue, labels=hotel_wise_total_revenue.index, autopct='%1.1f%%', colors=plt.cm.Paired(range(len(hotel_wise_total_revenue))))\n",
        "plt.title('Revenue Distribution by Hotel')\n",
        "plt.show()\n"
      ],
      "metadata": {
        "id": "BFCiqpLY_szr"
      },
      "execution_count": null,
      "outputs": []
    },
    {
      "cell_type": "markdown",
      "source": [
        "##### 1. Why did you pick the specific chart?"
      ],
      "metadata": {
        "id": "EXh0U9oCveiU"
      }
    },
    {
      "cell_type": "markdown",
      "source": [
        "**I chose a pie chart because it effectively shows the proportional distribution of total revenue among different hotels, making it easy to compare their contributions visually. This type of chart is ideal for highlighting the share of each category within a whole.**"
      ],
      "metadata": {
        "id": "eMmPjTByveiU"
      }
    },
    {
      "cell_type": "markdown",
      "source": [
        "##### 2. What is/are the insight(s) found from the chart?"
      ],
      "metadata": {
        "id": "22aHeOlLveiV"
      }
    },
    {
      "cell_type": "markdown",
      "source": [
        "**The insights from the pie chart would reveal the proportion of total revenue generated by each hotel. This can help identify which hotels are the top revenue contributors and which may need attention to improve their financial performance.**"
      ],
      "metadata": {
        "id": "uPQ8RGwHveiV"
      }
    },
    {
      "cell_type": "markdown",
      "source": [
        "3.Will the gained insights help creating a positive business impact?\n",
        "Are there any insights that lead to negative growth? Justify with specific reason"
      ],
      "metadata": {
        "id": "sSOM6obcGU7t"
      }
    },
    {
      "cell_type": "markdown",
      "source": [
        "**Yes, the insights can help create a positive business impact. By identifying the top-performing hotels, the business can replicate successful strategies across other locations, optimize resource allocation, and focus marketing efforts where they are most effective. Conversely, if the chart reveals that certain hotels contribute significantly less to overall revenue, it may indicate issues such as poor location, inadequate services, or ineffective management. These underperforming hotels could lead to negative growth if not addressed, as they might drain resources without yielding sufficient returns, ultimately affecting the overall profitability of the business.**"
      ],
      "metadata": {
        "id": "XDg7fQ4cGRaU"
      }
    },
    {
      "cell_type": "markdown",
      "source": [],
      "metadata": {
        "id": "JN-2DlFBGRJ2"
      }
    },
    {
      "cell_type": "markdown",
      "source": [
        "## **5. Solution to Business Objective**"
      ],
      "metadata": {
        "id": "JcMwzZxoAimU"
      }
    },
    {
      "cell_type": "markdown",
      "source": [
        "#### What do you suggest the client to achieve Business Objective ?\n",
        "Explain Briefly."
      ],
      "metadata": {
        "id": "8G2x9gOozGDZ"
      }
    },
    {
      "cell_type": "markdown",
      "source": [
        "A city hotel has more bookings than a resort. Offer packages and promotions to promote bookings for the resort hotel.\n",
        "\n",
        "BB is the most requested food. The hotel should maintain food quality while also offering discounts on other foods to promote other food types, reducing the burden on kitchen management and keeping a variety of food options available to customers.\n",
        "\n",
        "Most of the bookings are made through the online platform. Hotels can cut costs by eliminating market segments such as complementary and aviation because bookings through these segments are very low.\n",
        "\n",
        "Because most bookings made through TA/TO distribution are followed by corporate distribution, hotels should invest in both TA/TO and corporate distribution channels. The GDS distribution channel can be eliminated by hoteliers because bookings made through it are extremely low.\n",
        "\n",
        "Very few customers (3.86%) visited again. So hotels can increase repeat bookings by offering the right repeat booking incentives, understanding the motivations behind repeat bookings, marketing to your guests’ past interests, and assessing past bookings to identify priority guests.\n",
        "\n",
        "Because rooms A and D are the most popular with customers, the hotel should maintain their quality. The hotel should promote rooms E, F, and G to increase demand by offering discounts. Because customers do not prefer to book room types B, C, H, and L, the hotel can eliminate them, lowering the cost of these rooms.\n",
        "\n",
        "Customers do not want to pay a pre-deposit for a reservation. Hotels should promote advance deposits because not only does an advance deposit allow you to recognize revenue faster, it also greatly decreases the risk of cancellations.\n",
        "Because 3 and 8 parking spaces were rarely requested by customers, hotels can only keep bookings for 1 and 2 parking spaces to save money.\n",
        "\n",
        "15% of customers were not given reserved rooms. Make sure that guests get the rooms they have booked.\n",
        "\n",
        "Almost 25% of customers cancelled their bookings. Hotel should implement a cancellation policy, discount on confirmed bookings, and send booking reminders to guests to reduce booking cancellations.\n",
        "\n",
        "People typically book rooms for two people, so encourage family and group bookings. You can maximize revenue by promoting it with a discounted offer for group bookings."
      ],
      "metadata": {
        "id": "pASKb0qOza21"
      }
    },
    {
      "cell_type": "markdown",
      "source": [
        "# **Conclusion**"
      ],
      "metadata": {
        "id": "gCX9965dhzqZ"
      }
    },
    {
      "cell_type": "markdown",
      "source": [
        "The majority of guests come from western europe countries.We should spend a significant amount of our budget on those area.\n",
        "\n",
        "Around 61% bookings are for City hotel and 39% bookings are for Resort hotel, therefore City Hotel is busier than Resort hotel.\n",
        "\n",
        "Majority of the hotels booked are city hotel. Definitely need to spend the most targeting fund on those hotel.\n",
        "\n",
        "We should also target months between May to Aug. Those are peak months due to the summer period.\n",
        "\n",
        "Given that we do not have repeated guests, we should target our advertisement on guests to increase returning guests.\n",
        "\n",
        "80% distribution_channel is TA/TO\n",
        "\n",
        "Most common stay length is less than 4 days and generally people prefer City hotel for short stay, but for long stays, Resort Hotel is preferred.\n",
        "\n",
        "November,Descember, February And January are the months which has less booking so in this perios you can get rooms with less average daily rate. And Avoid most busiest months for hotels (May,June,July,August)he conclusion here."
      ],
      "metadata": {
        "id": "Fjb1IsQkh3yE"
      }
    },
    {
      "cell_type": "markdown",
      "source": [
        "### ***Hurrah! You have successfully completed your EDA Capstone Project !!!***"
      ],
      "metadata": {
        "id": "gIfDvo9L0UH2"
      }
    }
  ]
}